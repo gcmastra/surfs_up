{
 "cells": [
  {
   "cell_type": "code",
   "execution_count": 1,
   "metadata": {},
   "outputs": [],
   "source": [
    "%matplotlib inline\n",
    "from matplotlib import style\n",
    "style.use('fivethirtyeight')\n",
    "import matplotlib.pyplot as plt"
   ]
  },
  {
   "cell_type": "code",
   "execution_count": 2,
   "metadata": {},
   "outputs": [],
   "source": [
    "import numpy as np\n",
    "import pandas as pd"
   ]
  },
  {
   "cell_type": "code",
   "execution_count": 4,
   "metadata": {},
   "outputs": [],
   "source": [
    "import datetime as dt"
   ]
  },
  {
   "cell_type": "markdown",
   "metadata": {},
   "source": [
    "# Reflect Tables into SQLAlchemy ORM"
   ]
  },
  {
   "cell_type": "code",
   "execution_count": 6,
   "metadata": {},
   "outputs": [],
   "source": [
    "# Python SQL toolkit and Object Relational Mapper\n",
    "import sqlalchemy\n",
    "from sqlalchemy.ext.automap import automap_base\n",
    "from sqlalchemy.orm import Session\n",
    "from sqlalchemy import create_engine, func"
   ]
  },
  {
   "cell_type": "code",
   "execution_count": 7,
   "metadata": {},
   "outputs": [],
   "source": [
    "# reflect an existing database into a new model\n",
    "engine = create_engine(\"sqlite:///hawaii.sqlite\")\n",
    "Base = automap_base()\n",
    "\n",
    "# reflect the tables\n",
    "Base.prepare(engine, reflect=True)"
   ]
  },
  {
   "cell_type": "code",
   "execution_count": 8,
   "metadata": {},
   "outputs": [
    {
     "data": {
      "text/plain": [
       "['measurement', 'station']"
      ]
     },
     "execution_count": 8,
     "metadata": {},
     "output_type": "execute_result"
    }
   ],
   "source": [
    "# We can view all of the classes that automap found\n",
    "Base.classes.keys()\n"
   ]
  },
  {
   "cell_type": "code",
   "execution_count": 10,
   "metadata": {},
   "outputs": [],
   "source": [
    "# Save references to each table\n",
    "Measurement = Base.classes.measurement\n",
    "Station = Base.classes.station\n"
   ]
  },
  {
   "cell_type": "code",
   "execution_count": 11,
   "metadata": {},
   "outputs": [],
   "source": [
    "# Create our session (link) from Python to the DB\n",
    "session = Session(engine)"
   ]
  },
  {
   "cell_type": "code",
   "execution_count": null,
   "metadata": {},
   "outputs": [],
   "source": [
    "prev_year = dt.date(2017, 8, 23) - dt.timedelta(days=365)\n",
    "prev_year\n",
    "# initialize a list to hold the results\n",
    "# tobs is temperature obs while prcp is precip\n",
    "results = []\n",
    "\n",
    "results = session.query(Measurement.date, Measurement.tobs).all()\n",
    "\n",
    "# results = session.query(Measurement.date, Measurement.prcp).filter(Measurement.date >= prev_year).all()\n",
    "\n",
    "len(results )\n"
   ]
  },
  {
   "cell_type": "code",
   "execution_count": 12,
   "metadata": {},
   "outputs": [
    {
     "ename": "SyntaxError",
     "evalue": "invalid syntax (<ipython-input-12-ad6e8d9a2268>, line 17)",
     "output_type": "error",
     "traceback": [
      "\u001b[1;36m  File \u001b[1;32m\"<ipython-input-12-ad6e8d9a2268>\"\u001b[1;36m, line \u001b[1;32m17\u001b[0m\n\u001b[1;33m    filter_2011_june = Measurement.date.between(dt.date(2011, 6, 1),dt.date(2011, 6, 30)\u001b[0m\n\u001b[1;37m                   ^\u001b[0m\n\u001b[1;31mSyntaxError\u001b[0m\u001b[1;31m:\u001b[0m invalid syntax\n"
     ]
    }
   ],
   "source": [
    "# for multiple years - tried this method - looked promising - except the OR symbols are interpreted as part of the string\n",
    "expression4 = \"\"\n",
    "for yearx in range(\n",
    "    2010,2018):\n",
    "    expression1= f\"dt.date({yearx}, 6, 1)\"\n",
    "    expression2= f\"dt.date({yearx}, 6, 30)\"\n",
    "    expre1ssion = f\"Measurement.date.between({expression1},{expression2} | \"\n",
    "    expre2ssion = expression4 + expression3\n",
    "    print3(exprssion3)\n",
    "filter_tuple = expression4[:-2]\n",
    "\n",
    "\n",
    "\n",
    "# here is a brute force way\n",
    "filter_2010_june = Measurement.date.between(dt.date(2010, 6, 1),dt.date(2010, 6, 30)\n",
    "                                            \n",
    "filter_2011_june = Measurement.date.between(dt.date(2011, 6, 1),dt.date(2011, 6, 30)\n",
    "\n",
    "filter_2012_june = Measurement.date.between(dt.date(2012, 6, 1),dt.date(2012, 6, 30)\n",
    "\n",
    "                                            \n",
    "filter_2013_june = Measurement.date.between(dt.date(2013, 6, 1),dt.date(2013, 6, 30)\n",
    "filter_2014_june = Measurement.date.between(dt.date(2014, 6, 1),dt.date(2014, 6, 30)\n",
    "filter_2015_june = Measurement.date.between(dt.date(2015, 6, 1),dt.date(2015, 6, 30)\n",
    "filter_2016_june = Measurement.date.between(dt.date(2016, 6, 1),dt.date(2016, 6, 30)\n",
    "filter_2017_june = Measurement.date.between(dt.date(2017, 6, 1),dt.date(2017, 6, 30)\n",
    "                                            \n",
    "# filter_tuple_all = (filter_2010_june | filter_2011_june | filter_2012_june | filter_2013_june | filter_2014_june | filter_2015_june | filter_2016_june | filter_2017_june)\n",
    "        "
   ]
  },
  {
   "cell_type": "code",
   "execution_count": 32,
   "metadata": {},
   "outputs": [],
   "source": [
    "\n",
    "# try to combine two or multiple years in the same query by putting the filters in a list or tuple\n",
    "start_date_june = dt.date(2017, 6, 1) \n",
    "end_date_june = dt.date(2017, 6, 30) \n",
    "\n",
    "start_date_june_2016 = dt.date(2016, 6, 1) \n",
    "end_date_june_2016 = dt.date(2016, 6, 30) \n",
    "\n",
    "start_date_june_2015 = dt.date(2015, 6, 1) \n",
    "end_date_june_2015 = dt.date(2015, 6, 30) \n",
    "\n",
    "filter_2016 = Measurement.date.between(start_date_june_2016, end_date_june_2016)\n",
    "\n",
    "filter_2017 = Measurement.date.between(start_date_june, end_date_june)\n",
    "\n",
    "filter_2015 = Measurement.date.between(start_date_june_2015, end_date_june_2015)\n",
    "\n",
    "filter_2014 = Measurement.date.between(dt.date(2014, 6, 1), dt.date(2014, 6, 30))\n",
    "\n",
    "\n",
    "results_june = session.query(Measurement.date, Measurement.tobs).filter(filter_2014 | filter_2015 | filter_2016 | filter_2017)\n",
    "\n",
    "                         \n",
    "                         \n"
   ]
  },
  {
   "cell_type": "code",
   "execution_count": 33,
   "metadata": {},
   "outputs": [
    {
     "data": {
      "text/plain": [
       "803"
      ]
     },
     "execution_count": 33,
     "metadata": {},
     "output_type": "execute_result"
    }
   ],
   "source": [
    "# len(results_dec)\n",
    "results_june = results_june.all()\n",
    "len(results_june)\n",
    "\n"
   ]
  },
  {
   "cell_type": "markdown",
   "metadata": {},
   "source": [
    "# Exploratory Climate Analysis"
   ]
  },
  {
   "cell_type": "code",
   "execution_count": null,
   "metadata": {},
   "outputs": [],
   "source": [
    "# Design a query to retrieve the last 12 months of precipitation data and plot the results. \n",
    "#Starting from the last data point in the database. \n",
    "\n",
    "# Calculate the date one year from the last date in data set.\n",
    "prev_year = dt.date(2017, 8, 23) - dt.timedelta(days=365)\n",
    "prev_year\n",
    "\n",
    "# initialize a list to hold the results\n",
    "results = []\n",
    "\n",
    "# Perform a query to retrieve the data and precipitation scores\n",
    "results = session.query(Measurement.date, Measurement.prcp).filter(Measurement.date >= prev_year).all()\n",
    "\n",
    "# Save the query results as a Pandas DataFrame and set the index to the date column\n",
    "df = pd.DataFrame(results, columns=['date','precipitation'])\n",
    "df.set_index(df['date'], inplace=True)\n",
    "\n",
    "# Sort the dataframe by date\n",
    "df = df.sort_index()\n",
    "\n",
    "# Use Pandas Plotting with Matplotlib to plot the data\n",
    "df.plot()"
   ]
  },
  {
   "cell_type": "code",
   "execution_count": null,
   "metadata": {},
   "outputs": [],
   "source": [
    "# next line commented\n",
    "# print(df.to_string(index=False))\n",
    "df.plot()"
   ]
  },
  {
   "cell_type": "code",
   "execution_count": null,
   "metadata": {},
   "outputs": [],
   "source": [
    "# Use Pandas to calcualte the summary statistics for the precipitation data\n",
    "df.describe()"
   ]
  },
  {
   "cell_type": "code",
   "execution_count": null,
   "metadata": {},
   "outputs": [],
   "source": [
    "# How many stations are available in this dataset?\n",
    "session.query(func.count(Station.station)).all()\n"
   ]
  },
  {
   "cell_type": "code",
   "execution_count": null,
   "metadata": {},
   "outputs": [],
   "source": [
    "# What are the most active stations?\n",
    "\n",
    "session.query(Measurement.station, func.count(Measurement.station)).\\\n",
    "group_by(Measurement.station).order_by(func.count(Measurement.station).desc()).all()\n",
    "\n",
    "# List the stations and the counts in descending order.\n"
   ]
  },
  {
   "cell_type": "code",
   "execution_count": null,
   "metadata": {},
   "outputs": [],
   "source": [
    "# Using the station id from the previous query, calculate the lowest temperature recorded, \n",
    "# highest temperature recorded, and average temperature most active station?\n",
    "\n",
    "session.query(func.min(Measurement.tobs), func.max(Measurement.tobs), func.avg(Measurement.tobs)).\\\n",
    "filter(Measurement.station == 'USC00519281').all()\n"
   ]
  },
  {
   "cell_type": "code",
   "execution_count": null,
   "metadata": {},
   "outputs": [],
   "source": [
    "# honestly I don't know why we just can't use regular SQL queries here instead of the SQLAlchemy functions\n",
    "data = engine.execute(\"SELECT min(tobs), max(tobs) FROM measurement WHERE station= 'USC00519281'\")\n",
    "\n",
    "for record in data:\n",
    "    print(record)"
   ]
  },
  {
   "cell_type": "code",
   "execution_count": null,
   "metadata": {},
   "outputs": [],
   "source": [
    "# Choose the station with the highest number of temperature observations.\n",
    "# Query the last 12 months of temperature observation data for this station and plot the results as a histogram\n"
   ]
  },
  {
   "cell_type": "code",
   "execution_count": null,
   "metadata": {},
   "outputs": [],
   "source": [
    "# Write a function called `calc_temps` that will accept start date and end date in the format '%Y-%m-%d' \n",
    "# and return the minimum, average, and maximum temperatures for that range of dates\n"
   ]
  },
  {
   "cell_type": "markdown",
   "metadata": {},
   "source": [
    "# Challenge"
   ]
  },
  {
   "cell_type": "code",
   "execution_count": null,
   "metadata": {},
   "outputs": [],
   "source": []
  }
 ],
 "metadata": {
  "kernelspec": {
   "display_name": "Python 3",
   "language": "python",
   "name": "python3"
  },
  "language_info": {
   "codemirror_mode": {
    "name": "ipython",
    "version": 3
   },
   "file_extension": ".py",
   "mimetype": "text/x-python",
   "name": "python",
   "nbconvert_exporter": "python",
   "pygments_lexer": "ipython3",
   "version": "3.7.10"
  }
 },
 "nbformat": 4,
 "nbformat_minor": 2
}
